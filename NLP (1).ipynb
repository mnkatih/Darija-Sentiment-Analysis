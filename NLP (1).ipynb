{
 "cells": [
  {
   "cell_type": "code",
   "execution_count": null,
   "metadata": {},
   "outputs": [],
   "source": [
    "#!pip install matplotlib\n",
    "#!pip install xlrd"
   ]
  },
  {
   "cell_type": "code",
   "execution_count": 119,
   "metadata": {},
   "outputs": [],
   "source": [
    "import pandas as pd\n",
    "import numpy as np\n",
    "import matplotlib.pyplot as plt\n",
    "import string\n",
    "import re\n",
    "from nltk.corpus import stopwords\n",
    "from sklearn.model_selection import train_test_split, GridSearchCV\n",
    "from sklearn.feature_extraction.text import TfidfVectorizer\n",
    "from sklearn.pipeline import make_pipeline\n",
    "from sklearn.linear_model import LogisticRegression\n",
    "from sklearn.ensemble import RandomForestClassifier\n",
    "from sklearn.naive_bayes import MultinomialNB\n",
    "from sklearn.svm import SVC\n",
    "from sklearn.metrics import confusion_matrix,accuracy_score, classification_report"
   ]
  },
  {
   "cell_type": "code",
   "execution_count": 120,
   "metadata": {},
   "outputs": [],
   "source": [
    "import csv\n",
    "\n",
    "Train= pd.read_csv('Train.csv',\n",
    "                 lineterminator='\\n')\n",
    "Test= pd.read_csv('Train.csv',\n",
    "                 lineterminator='\\n')#replace it by another dataset of the test"
   ]
  },
  {
   "cell_type": "markdown",
   "metadata": {},
   "source": [
    "for x in Train.label:\n",
    "    if x == 1:\n",
    "        Train.label = 'Positive'  \n",
    "    else:\n",
    "        Train.label = 'Negative'\n",
    "    \n",
    "\n"
   ]
  },
  {
   "cell_type": "code",
   "execution_count": 121,
   "metadata": {},
   "outputs": [],
   "source": [
    "#Train[\"label\"] = Train[\"label\"].map({'Positive': 1, 'Negative': 0})\n",
    "Train['label'] = Train['label'].replace([1],'Positive')\n",
    "Train['label'] = Train['label'].replace([0],'Negative')\n",
    "Test['label'] = Test['label'].replace([1],'Positive')\n",
    "Test['label'] = Test['label'].replace([0],'Negative')"
   ]
  },
  {
   "cell_type": "code",
   "execution_count": 123,
   "metadata": {},
   "outputs": [
    {
     "data": {
      "text/html": [
       "<div>\n",
       "<style scoped>\n",
       "    .dataframe tbody tr th:only-of-type {\n",
       "        vertical-align: middle;\n",
       "    }\n",
       "\n",
       "    .dataframe tbody tr th {\n",
       "        vertical-align: top;\n",
       "    }\n",
       "\n",
       "    .dataframe thead th {\n",
       "        text-align: right;\n",
       "    }\n",
       "</style>\n",
       "<table border=\"1\" class=\"dataframe\">\n",
       "  <thead>\n",
       "    <tr style=\"text-align: right;\">\n",
       "      <th></th>\n",
       "      <th>ID</th>\n",
       "      <th>text</th>\n",
       "      <th>label</th>\n",
       "    </tr>\n",
       "  </thead>\n",
       "  <tbody>\n",
       "    <tr>\n",
       "      <th>0</th>\n",
       "      <td>IQOTJAT</td>\n",
       "      <td>m3alem bourjilia w illi ma yefehmouch yelzmou ...</td>\n",
       "      <td>Positive</td>\n",
       "    </tr>\n",
       "    <tr>\n",
       "      <th>1</th>\n",
       "      <td>HY9M63D</td>\n",
       "      <td>Ya m3alllam</td>\n",
       "      <td>Positive</td>\n",
       "    </tr>\n",
       "    <tr>\n",
       "      <th>2</th>\n",
       "      <td>7SV55S2</td>\n",
       "      <td>Ma7lek! Zin ou fannena 7loua.</td>\n",
       "      <td>Positive</td>\n",
       "    </tr>\n",
       "    <tr>\n",
       "      <th>3</th>\n",
       "      <td>KDLJVZR</td>\n",
       "      <td>hhhhh ya bliiiiiiiida ya Hanen</td>\n",
       "      <td>Negative</td>\n",
       "    </tr>\n",
       "    <tr>\n",
       "      <th>4</th>\n",
       "      <td>0MAU5GY</td>\n",
       "      <td>Nikraha w ma5yebha pffff</td>\n",
       "      <td>Negative</td>\n",
       "    </tr>\n",
       "    <tr>\n",
       "      <th>5</th>\n",
       "      <td>EA1VCJ2</td>\n",
       "      <td>3sal denya :*</td>\n",
       "      <td>Positive</td>\n",
       "    </tr>\n",
       "    <tr>\n",
       "      <th>6</th>\n",
       "      <td>2SZ11JC</td>\n",
       "      <td>سي جلول يعطيك ألف صحة و ربي يبارك فيك وكأنك شر...</td>\n",
       "      <td>Positive</td>\n",
       "    </tr>\n",
       "    <tr>\n",
       "      <th>7</th>\n",
       "      <td>59OI2D8</td>\n",
       "      <td>Ya mama mali masta lasta :p :p</td>\n",
       "      <td>Negative</td>\n",
       "    </tr>\n",
       "    <tr>\n",
       "      <th>8</th>\n",
       "      <td>E1TVXKP</td>\n",
       "      <td>Bravo Neji jelloul</td>\n",
       "      <td>Positive</td>\n",
       "    </tr>\n",
       "    <tr>\n",
       "      <th>9</th>\n",
       "      <td>L5L4SAC</td>\n",
       "      <td>نسحو يفهم في كل شيء</td>\n",
       "      <td>Positive</td>\n",
       "    </tr>\n",
       "  </tbody>\n",
       "</table>\n",
       "</div>"
      ],
      "text/plain": [
       "        ID                                               text     label\n",
       "0  IQOTJAT  m3alem bourjilia w illi ma yefehmouch yelzmou ...  Positive\n",
       "1  HY9M63D                                        Ya m3alllam  Positive\n",
       "2  7SV55S2                      Ma7lek! Zin ou fannena 7loua.  Positive\n",
       "3  KDLJVZR                     hhhhh ya bliiiiiiiida ya Hanen  Negative\n",
       "4  0MAU5GY                           Nikraha w ma5yebha pffff  Negative\n",
       "5  EA1VCJ2                                      3sal denya :*  Positive\n",
       "6  2SZ11JC  سي جلول يعطيك ألف صحة و ربي يبارك فيك وكأنك شر...  Positive\n",
       "7  59OI2D8                     Ya mama mali masta lasta :p :p  Negative\n",
       "8  E1TVXKP                                 Bravo Neji jelloul  Positive\n",
       "9  L5L4SAC                                نسحو يفهم في كل شيء  Positive"
      ]
     },
     "execution_count": 123,
     "metadata": {},
     "output_type": "execute_result"
    }
   ],
   "source": [
    "Test.head(10)\n"
   ]
  },
  {
   "cell_type": "markdown",
   "metadata": {},
   "source": [
    "data = pd.read_csv(r\"C:/Users/tarik/Documents/UmojaHackMorocco/Train.csv\")\n",
    "print(data.head())\n",
    "print(data.sample(5))"
   ]
  },
  {
   "cell_type": "code",
   "execution_count": 124,
   "metadata": {},
   "outputs": [
    {
     "name": "stderr",
     "output_type": "stream",
     "text": [
      "[nltk_data] Downloading package stopwords to\n",
      "[nltk_data]     C:\\Users\\tarik\\AppData\\Roaming\\nltk_data...\n",
      "[nltk_data]   Package stopwords is already up-to-date!\n"
     ]
    },
    {
     "data": {
      "text/plain": [
       "True"
      ]
     },
     "execution_count": 124,
     "metadata": {},
     "output_type": "execute_result"
    }
   ],
   "source": [
    "import nltk\n",
    "nltk.download('stopwords')"
   ]
  },
  {
   "cell_type": "code",
   "execution_count": 125,
   "metadata": {},
   "outputs": [
    {
     "data": {
      "text/html": [
       "<div>\n",
       "<style scoped>\n",
       "    .dataframe tbody tr th:only-of-type {\n",
       "        vertical-align: middle;\n",
       "    }\n",
       "\n",
       "    .dataframe tbody tr th {\n",
       "        vertical-align: top;\n",
       "    }\n",
       "\n",
       "    .dataframe thead th {\n",
       "        text-align: right;\n",
       "    }\n",
       "</style>\n",
       "<table border=\"1\" class=\"dataframe\">\n",
       "  <thead>\n",
       "    <tr style=\"text-align: right;\">\n",
       "      <th></th>\n",
       "      <th>ID</th>\n",
       "      <th>text</th>\n",
       "      <th>label</th>\n",
       "    </tr>\n",
       "  </thead>\n",
       "  <tbody>\n",
       "    <tr>\n",
       "      <th>0</th>\n",
       "      <td>IQOTJAT</td>\n",
       "      <td>m3alem bourjilia w illi ma yefehmouch yelzmou ...</td>\n",
       "      <td>Positive</td>\n",
       "    </tr>\n",
       "    <tr>\n",
       "      <th>1</th>\n",
       "      <td>HY9M63D</td>\n",
       "      <td>Ya m3alllam</td>\n",
       "      <td>Positive</td>\n",
       "    </tr>\n",
       "    <tr>\n",
       "      <th>2</th>\n",
       "      <td>7SV55S2</td>\n",
       "      <td>Ma7lek! Zin ou fannena 7loua.</td>\n",
       "      <td>Positive</td>\n",
       "    </tr>\n",
       "    <tr>\n",
       "      <th>3</th>\n",
       "      <td>KDLJVZR</td>\n",
       "      <td>hhhhh ya bliiiiiiiida ya Hanen</td>\n",
       "      <td>Negative</td>\n",
       "    </tr>\n",
       "    <tr>\n",
       "      <th>4</th>\n",
       "      <td>0MAU5GY</td>\n",
       "      <td>Nikraha w ma5yebha pffff</td>\n",
       "      <td>Negative</td>\n",
       "    </tr>\n",
       "  </tbody>\n",
       "</table>\n",
       "</div>"
      ],
      "text/plain": [
       "        ID                                               text     label\n",
       "0  IQOTJAT  m3alem bourjilia w illi ma yefehmouch yelzmou ...  Positive\n",
       "1  HY9M63D                                        Ya m3alllam  Positive\n",
       "2  7SV55S2                      Ma7lek! Zin ou fannena 7loua.  Positive\n",
       "3  KDLJVZR                     hhhhh ya bliiiiiiiida ya Hanen  Negative\n",
       "4  0MAU5GY                           Nikraha w ma5yebha pffff  Negative"
      ]
     },
     "execution_count": 125,
     "metadata": {},
     "output_type": "execute_result"
    }
   ],
   "source": [
    "Train.head()\n",
    "#Train['text']"
   ]
  },
  {
   "cell_type": "code",
   "execution_count": 126,
   "metadata": {
    "id": "XHlsS9CaFm_5"
   },
   "outputs": [],
   "source": [
    "import pyarabic.araby as araby\n",
    "import re\n",
    "import string\n",
    "import unicodedata as ud\n",
    "import codecs\n",
    "import numpy as np\n",
    "from matplotlib import pyplot as plt\n",
    "import pandas as pd\n",
    "from tashaphyne.stemming import ArabicLightStemmer\n",
    "from itertools import islice\n",
    "from sklearn.feature_extraction.text import TfidfVectorizer\n",
    "from sklearn.naive_bayes import MultinomialNB\n",
    "from sklearn import metrics\n",
    "from sklearn.model_selection import train_test_split\n",
    "from sklearn.feature_extraction.text import CountVectorizer\n",
    "from sklearn.svm import SVC\n",
    "from sklearn.metrics import classification_report,accuracy_score\n",
    "from sklearn.linear_model import LogisticRegression\n",
    "from sklearn.model_selection import GridSearchCV, RandomizedSearchCV \n",
    "from scipy import stats\n"
   ]
  },
  {
   "cell_type": "code",
   "execution_count": 127,
   "metadata": {},
   "outputs": [
    {
     "name": "stdout",
     "output_type": "stream",
     "text": [
      "        ID                                               text     label\n",
      "0  IQOTJAT  m3alem bourjilia w illi yefehmouch yelzmou ya9...  Positive\n",
      "1  HY9M63D                                        Ya m3alllam  Positive\n",
      "2  7SV55S2                           Ma7lek Zin fannena 7loua  Positive\n",
      "3  KDLJVZR                           hhhhh bliiiiiiiida Hanen  Negative\n",
      "4  0MAU5GY                           Nikraha w ma5yebha pffff  Negative\n",
      "5  EA1VCJ2                                         3sal denya  Positive\n",
      "6  2SZ11JC  سي جلول يعطيك الف صحه و ربي يبارك فيك وكانك شر...  Positive\n",
      "7  59OI2D8                       Ya mama mali masta lasta p p  Negative\n",
      "8  E1TVXKP                                 Bravo Neji jelloul  Positive\n",
      "9  L5L4SAC                                      نسحو يفهم شيء  Positive\n"
     ]
    }
   ],
   "source": [
    "\n",
    "punctuations = '''`÷×؛<>_()*&^%][ـ،/:\"؟.,'{}~¦+|!”…“–ـ''' + string.punctuation\n",
    "\n",
    "# Arabic stop words with nltk\n",
    "stop_words = stopwords.words()\n",
    "\n",
    "arabic_diacritics = re.compile(\"\"\"\n",
    "                             ّ    | # Shadda\n",
    "                             َ    | # Fatha\n",
    "                             ً    | # Tanwin Fath\n",
    "                             ُ    | # Damma\n",
    "                             ٌ    | # Tanwin Damm\n",
    "                             ِ    | # Kasra\n",
    "                             ٍ    | # Tanwin Kasr\n",
    "                             ْ    | # Sukun\n",
    "                             ـ     # Tatwil/Kashida\n",
    "                         \"\"\", re.VERBOSE)\n",
    "\n",
    "def normalize_arabic(text):\n",
    "    text = re.sub(\"[إأآا]\", \"ا\", text)\n",
    "    text = re.sub(\"ى\", \"ي\", text)\n",
    "    text = re.sub(\"ؤ\", \"ء\", text)\n",
    "    text = re.sub(\"ئ\", \"ء\", text)\n",
    "    text = re.sub(\"ة\", \"ه\", text)\n",
    "    text = re.sub(\"گ\", \"ك\", text)\n",
    "    return text\n",
    "\n",
    "\n",
    "def preprocess(text):\n",
    "    \n",
    "    '''\n",
    "    text is an arabic string input\n",
    "    \n",
    "    the preprocessed text is returned\n",
    "    '''\n",
    "    \n",
    "    #remove punctuations\n",
    "    translator = str.maketrans('', '', punctuations)\n",
    "    text = text.translate(translator)\n",
    "    \n",
    "    # remove Tashkeel\n",
    "    text = re.sub(arabic_diacritics, '', text)\n",
    "    \n",
    "    #remove longation\n",
    "    text = re.sub(\"[إأآا]\", \"ا\", text)\n",
    "    text = re.sub(\"ى\", \"ي\", text)\n",
    "    text = re.sub(\"ؤ\", \"ء\", text)\n",
    "    text = re.sub(\"ئ\", \"ء\", text)\n",
    "    text = re.sub(\"ة\", \"ه\", text)\n",
    "    text = re.sub(\"گ\", \"ك\", text)\n",
    "\n",
    "    text = ' '.join(word for word in text.split() if word not in stop_words)\n",
    "\n",
    "    return text\n",
    "\n",
    "#Train['text'] = Train.fillna({'text':' '})\n",
    "#Train['text'] = Train[Train['text'].notna()]\n",
    "Train['text'] = Train['text'].apply(str).apply(preprocess)\n",
    "print(Train.head(10))"
   ]
  },
  {
   "cell_type": "markdown",
   "metadata": {},
   "source": [
    "Logistic regression\n"
   ]
  },
  {
   "cell_type": "code",
   "execution_count": 128,
   "metadata": {},
   "outputs": [
    {
     "name": "stderr",
     "output_type": "stream",
     "text": [
      "C:\\Users\\tarik\\.conda\\envs\\VENV\\lib\\site-packages\\sklearn\\linear_model\\_logistic.py:764: ConvergenceWarning: lbfgs failed to converge (status=1):\n",
      "STOP: TOTAL NO. of ITERATIONS REACHED LIMIT.\n",
      "\n",
      "Increase the number of iterations (max_iter) or scale the data as shown in:\n",
      "    https://scikit-learn.org/stable/modules/preprocessing.html\n",
      "Please also refer to the documentation for alternative solver options:\n",
      "    https://scikit-learn.org/stable/modules/linear_model.html#logistic-regression\n",
      "  extra_warning_msg=_LOGISTIC_SOLVER_CONVERGENCE_MSG)\n",
      "C:\\Users\\tarik\\.conda\\envs\\VENV\\lib\\site-packages\\sklearn\\linear_model\\_logistic.py:764: ConvergenceWarning: lbfgs failed to converge (status=1):\n",
      "STOP: TOTAL NO. of ITERATIONS REACHED LIMIT.\n",
      "\n",
      "Increase the number of iterations (max_iter) or scale the data as shown in:\n",
      "    https://scikit-learn.org/stable/modules/preprocessing.html\n",
      "Please also refer to the documentation for alternative solver options:\n",
      "    https://scikit-learn.org/stable/modules/linear_model.html#logistic-regression\n",
      "  extra_warning_msg=_LOGISTIC_SOLVER_CONVERGENCE_MSG)\n"
     ]
    },
    {
     "name": "stdout",
     "output_type": "stream",
     "text": [
      "Accuracy score is 0.98\n",
      "              precision    recall  f1-score   support\n",
      "\n",
      "    Negative       0.97      0.99      0.98      4019\n",
      "    Positive       0.99      0.97      0.98      4382\n",
      "\n",
      "    accuracy                           0.98      8401\n",
      "   macro avg       0.98      0.98      0.98      8401\n",
      "weighted avg       0.98      0.98      0.98      8401\n",
      "\n"
     ]
    }
   ],
   "source": [
    "#feature = data.Feed\n",
    "#target = data.Sentiment\n",
    "#X_train = Train.text\n",
    "#Y_train = Train.label\n",
    "#X_test = Test.text\n",
    "#Y_test = Test.label\n",
    "\n",
    "\n",
    "# splitting into train and tests\n",
    "#X_train, X_test, Y_train, Y_test = train_test_split(feature, target, test_size =.2, random_state=100)\n",
    "X_train, Y_train= Train.text.apply(str),Train.label.apply(str)\n",
    "X_test, Y_test =Test.text.apply(str) ,Test.label.apply(str)\n",
    "\n",
    "\n",
    "# make pipeline\n",
    "pipe = make_pipeline(TfidfVectorizer(),\n",
    "                    LogisticRegression())\n",
    "# make param grid\n",
    "param_grid = {'logisticregression__C': [0.01, 0.1, 1, 10, 100]}\n",
    "\n",
    "# create and fit the model\n",
    "model = GridSearchCV(pipe, param_grid, cv=5)\n",
    "model.fit(X_train,Y_train)\n",
    "\n",
    "# make prediction and print accuracy\n",
    "prediction = model.predict(X_test)\n",
    "print(f\"Accuracy score is {accuracy_score(Y_test, prediction):.2f}\")\n",
    "print(classification_report(Y_test, prediction))\n"
   ]
  },
  {
   "cell_type": "markdown",
   "metadata": {},
   "source": [
    "Random forrest\n"
   ]
  },
  {
   "cell_type": "code",
   "execution_count": 139,
   "metadata": {},
   "outputs": [
    {
     "name": "stdout",
     "output_type": "stream",
     "text": [
      "Accuracy score is 0.97\n"
     ]
    }
   ],
   "source": [
    "pipe = make_pipeline(TfidfVectorizer(),\n",
    "                    RandomForestClassifier())\n",
    "\n",
    "param_grid = {'randomforestclassifier__n_estimators':[10, 100, 1000],\n",
    "             'randomforestclassifier__max_features':['sqrt', 'log2']}\n",
    "\n",
    "rf_model = GridSearchCV(pipe, param_grid, cv=5)\n",
    "rf_model.fit(X_train,Y_train)\n",
    "\n",
    "prediction1 = rf_model.predict(X_test)\n",
    "print(f\"Accuracy score is {accuracy_score(Y_test, prediction):.2f}\")"
   ]
  },
  {
   "cell_type": "markdown",
   "metadata": {},
   "source": [
    "naive bayes"
   ]
  },
  {
   "cell_type": "code",
   "execution_count": 136,
   "metadata": {},
   "outputs": [
    {
     "name": "stdout",
     "output_type": "stream",
     "text": [
      "Accuracy score is 0.97\n",
      "              precision    recall  f1-score   support\n",
      "\n",
      "    Negative       0.99      0.95      0.97      4019\n",
      "    Positive       0.95      0.99      0.97      4382\n",
      "\n",
      "    accuracy                           0.97      8401\n",
      "   macro avg       0.97      0.97      0.97      8401\n",
      "weighted avg       0.97      0.97      0.97      8401\n",
      "\n"
     ]
    }
   ],
   "source": [
    "pipe = make_pipeline(TfidfVectorizer(),\n",
    "                    MultinomialNB())\n",
    "pipe.fit(X_train,Y_train)\n",
    "prediction2 = pipe.predict(X_test)\n",
    "print(f\"Accuracy score is {accuracy_score(Y_test, prediction):.2f}\")\n",
    "print(classification_report(Y_test, prediction))"
   ]
  },
  {
   "cell_type": "code",
   "execution_count": 133,
   "metadata": {},
   "outputs": [
    {
     "data": {
      "text/html": [
       "<div>\n",
       "<style scoped>\n",
       "    .dataframe tbody tr th:only-of-type {\n",
       "        vertical-align: middle;\n",
       "    }\n",
       "\n",
       "    .dataframe tbody tr th {\n",
       "        vertical-align: top;\n",
       "    }\n",
       "\n",
       "    .dataframe thead th {\n",
       "        text-align: right;\n",
       "    }\n",
       "</style>\n",
       "<table border=\"1\" class=\"dataframe\">\n",
       "  <thead>\n",
       "    <tr style=\"text-align: right;\">\n",
       "      <th></th>\n",
       "      <th>text</th>\n",
       "      <th>prediction</th>\n",
       "    </tr>\n",
       "  </thead>\n",
       "  <tbody>\n",
       "    <tr>\n",
       "      <th>0</th>\n",
       "      <td>m3alem bourjilia w illi ma yefehmouch yelzmou ...</td>\n",
       "      <td>Positive</td>\n",
       "    </tr>\n",
       "    <tr>\n",
       "      <th>1</th>\n",
       "      <td>Ya m3alllam</td>\n",
       "      <td>Positive</td>\n",
       "    </tr>\n",
       "    <tr>\n",
       "      <th>2</th>\n",
       "      <td>Ma7lek! Zin ou fannena 7loua.</td>\n",
       "      <td>Positive</td>\n",
       "    </tr>\n",
       "    <tr>\n",
       "      <th>3</th>\n",
       "      <td>hhhhh ya bliiiiiiiida ya Hanen</td>\n",
       "      <td>Positive</td>\n",
       "    </tr>\n",
       "    <tr>\n",
       "      <th>4</th>\n",
       "      <td>Nikraha w ma5yebha pffff</td>\n",
       "      <td>Negative</td>\n",
       "    </tr>\n",
       "  </tbody>\n",
       "</table>\n",
       "</div>"
      ],
      "text/plain": [
       "                                                text prediction\n",
       "0  m3alem bourjilia w illi ma yefehmouch yelzmou ...   Positive\n",
       "1                                        Ya m3alllam   Positive\n",
       "2                      Ma7lek! Zin ou fannena 7loua.   Positive\n",
       "3                     hhhhh ya bliiiiiiiida ya Hanen   Positive\n",
       "4                           Nikraha w ma5yebha pffff   Negative"
      ]
     },
     "execution_count": 133,
     "metadata": {},
     "output_type": "execute_result"
    }
   ],
   "source": [
    "submit_df = pd.DataFrame(X_test)\n",
    "submit_df['prediction'] = prediction\n",
    "submit_df.head()"
   ]
  },
  {
   "cell_type": "code",
   "execution_count": 140,
   "metadata": {},
   "outputs": [
    {
     "data": {
      "text/html": [
       "<div>\n",
       "<style scoped>\n",
       "    .dataframe tbody tr th:only-of-type {\n",
       "        vertical-align: middle;\n",
       "    }\n",
       "\n",
       "    .dataframe tbody tr th {\n",
       "        vertical-align: top;\n",
       "    }\n",
       "\n",
       "    .dataframe thead th {\n",
       "        text-align: right;\n",
       "    }\n",
       "</style>\n",
       "<table border=\"1\" class=\"dataframe\">\n",
       "  <thead>\n",
       "    <tr style=\"text-align: right;\">\n",
       "      <th></th>\n",
       "      <th>text</th>\n",
       "      <th>prediction</th>\n",
       "    </tr>\n",
       "  </thead>\n",
       "  <tbody>\n",
       "    <tr>\n",
       "      <th>0</th>\n",
       "      <td>m3alem bourjilia w illi ma yefehmouch yelzmou ...</td>\n",
       "      <td>Positive</td>\n",
       "    </tr>\n",
       "    <tr>\n",
       "      <th>1</th>\n",
       "      <td>Ya m3alllam</td>\n",
       "      <td>Positive</td>\n",
       "    </tr>\n",
       "    <tr>\n",
       "      <th>2</th>\n",
       "      <td>Ma7lek! Zin ou fannena 7loua.</td>\n",
       "      <td>Positive</td>\n",
       "    </tr>\n",
       "    <tr>\n",
       "      <th>3</th>\n",
       "      <td>hhhhh ya bliiiiiiiida ya Hanen</td>\n",
       "      <td>Negative</td>\n",
       "    </tr>\n",
       "    <tr>\n",
       "      <th>4</th>\n",
       "      <td>Nikraha w ma5yebha pffff</td>\n",
       "      <td>Negative</td>\n",
       "    </tr>\n",
       "  </tbody>\n",
       "</table>\n",
       "</div>"
      ],
      "text/plain": [
       "                                                text prediction\n",
       "0  m3alem bourjilia w illi ma yefehmouch yelzmou ...   Positive\n",
       "1                                        Ya m3alllam   Positive\n",
       "2                      Ma7lek! Zin ou fannena 7loua.   Positive\n",
       "3                     hhhhh ya bliiiiiiiida ya Hanen   Negative\n",
       "4                           Nikraha w ma5yebha pffff   Negative"
      ]
     },
     "execution_count": 140,
     "metadata": {},
     "output_type": "execute_result"
    }
   ],
   "source": [
    "submit_rf = pd.DataFrame(X_test)\n",
    "submit_rf['prediction'] = prediction1\n",
    "submit_rf.head()"
   ]
  },
  {
   "cell_type": "code",
   "execution_count": 137,
   "metadata": {},
   "outputs": [
    {
     "data": {
      "text/html": [
       "<div>\n",
       "<style scoped>\n",
       "    .dataframe tbody tr th:only-of-type {\n",
       "        vertical-align: middle;\n",
       "    }\n",
       "\n",
       "    .dataframe tbody tr th {\n",
       "        vertical-align: top;\n",
       "    }\n",
       "\n",
       "    .dataframe thead th {\n",
       "        text-align: right;\n",
       "    }\n",
       "</style>\n",
       "<table border=\"1\" class=\"dataframe\">\n",
       "  <thead>\n",
       "    <tr style=\"text-align: right;\">\n",
       "      <th></th>\n",
       "      <th>text</th>\n",
       "      <th>prediction</th>\n",
       "    </tr>\n",
       "  </thead>\n",
       "  <tbody>\n",
       "    <tr>\n",
       "      <th>0</th>\n",
       "      <td>m3alem bourjilia w illi ma yefehmouch yelzmou ...</td>\n",
       "      <td>Positive</td>\n",
       "    </tr>\n",
       "    <tr>\n",
       "      <th>1</th>\n",
       "      <td>Ya m3alllam</td>\n",
       "      <td>Positive</td>\n",
       "    </tr>\n",
       "    <tr>\n",
       "      <th>2</th>\n",
       "      <td>Ma7lek! Zin ou fannena 7loua.</td>\n",
       "      <td>Positive</td>\n",
       "    </tr>\n",
       "    <tr>\n",
       "      <th>3</th>\n",
       "      <td>hhhhh ya bliiiiiiiida ya Hanen</td>\n",
       "      <td>Positive</td>\n",
       "    </tr>\n",
       "    <tr>\n",
       "      <th>4</th>\n",
       "      <td>Nikraha w ma5yebha pffff</td>\n",
       "      <td>Negative</td>\n",
       "    </tr>\n",
       "  </tbody>\n",
       "</table>\n",
       "</div>"
      ],
      "text/plain": [
       "                                                text prediction\n",
       "0  m3alem bourjilia w illi ma yefehmouch yelzmou ...   Positive\n",
       "1                                        Ya m3alllam   Positive\n",
       "2                      Ma7lek! Zin ou fannena 7loua.   Positive\n",
       "3                     hhhhh ya bliiiiiiiida ya Hanen   Positive\n",
       "4                           Nikraha w ma5yebha pffff   Negative"
      ]
     },
     "execution_count": 137,
     "metadata": {},
     "output_type": "execute_result"
    }
   ],
   "source": [
    "submit_NB = pd.DataFrame(X_test)\n",
    "submit_NB['prediction'] = prediction2\n",
    "submit_NB.head()"
   ]
  }
 ],
 "metadata": {
  "kernelspec": {
   "display_name": "Python 3",
   "language": "python",
   "name": "python3"
  },
  "language_info": {
   "codemirror_mode": {
    "name": "ipython",
    "version": 3
   },
   "file_extension": ".py",
   "mimetype": "text/x-python",
   "name": "python",
   "nbconvert_exporter": "python",
   "pygments_lexer": "ipython3",
   "version": "3.7.4"
  }
 },
 "nbformat": 4,
 "nbformat_minor": 4
}
